{
  "nbformat": 4,
  "nbformat_minor": 0,
  "metadata": {
    "colab": {
      "name": "Untitled14.ipynb",
      "provenance": []
    },
    "kernelspec": {
      "name": "python3",
      "display_name": "Python 3"
    },
    "language_info": {
      "name": "python"
    }
  },
  "cells": [
    {
      "cell_type": "code",
      "metadata": {
        "colab": {
          "base_uri": "https://localhost:8080/"
        },
        "id": "1CS_UJLcbBxp",
        "outputId": "a31bf676-7dfb-4789-b035-88ce76121dc3"
      },
      "source": [
        "aList = [\"John\",33,\"Toronto\",True]\n",
        "print(aList)"
      ],
      "execution_count": 1,
      "outputs": [
        {
          "output_type": "stream",
          "name": "stdout",
          "text": [
            "['John', 33, 'Toronto', True]\n"
          ]
        }
      ]
    },
    {
      "cell_type": "code",
      "metadata": {
        "colab": {
          "base_uri": "https://localhost:8080/"
        },
        "id": "GgkdySAYeuHk",
        "outputId": "90321964-dd81-4dd9-eb83-8e13e9b5ef10"
      },
      "source": [
        "Mahasiswa = [\"Syawaludin Fazri,2020071004,INF,Desain dan Analisis Algoritma,Rabu-15-Sep-2021,Universitas Pembanguna Jaya\",True]\n",
        "print(Mahasiswa)"
      ],
      "execution_count": 4,
      "outputs": [
        {
          "output_type": "stream",
          "name": "stdout",
          "text": [
            "['Syawaludin Fazri,2020071004,INF,Desain dan Analisis Algoritma,Rabu-15-Sep-2021,Universitas Pembanguna Jaya', True]\n"
          ]
        }
      ]
    },
    {
      "cell_type": "code",
      "metadata": {
        "colab": {
          "base_uri": "https://localhost:8080/",
          "height": 35
        },
        "id": "TySsa4iBgMgD",
        "outputId": "ab25c126-eac8-4c9f-9efc-2efd2723f89c"
      },
      "source": [
        "bin_colors=['Red','Green','Blue','Yellow']\n",
        "bin_colors[2]"
      ],
      "execution_count": 5,
      "outputs": [
        {
          "output_type": "execute_result",
          "data": {
            "application/vnd.google.colaboratory.intrinsic+json": {
              "type": "string"
            },
            "text/plain": [
              "'Blue'"
            ]
          },
          "metadata": {},
          "execution_count": 5
        }
      ]
    },
    {
      "cell_type": "code",
      "metadata": {
        "colab": {
          "base_uri": "https://localhost:8080/",
          "height": 35
        },
        "id": "keElDLjkhM7S",
        "outputId": "82537829-e472-4db1-f132-956b102f2dce"
      },
      "source": [
        "Mahasiswa=['Syawaludin Fazri','2020071004','INF','DAA','Rabu-15-Sep-2021','UPJ']\n",
        "Mahasiswa[2]"
      ],
      "execution_count": 6,
      "outputs": [
        {
          "output_type": "execute_result",
          "data": {
            "application/vnd.google.colaboratory.intrinsic+json": {
              "type": "string"
            },
            "text/plain": [
              "'INF'"
            ]
          },
          "metadata": {},
          "execution_count": 6
        }
      ]
    },
    {
      "cell_type": "code",
      "metadata": {
        "colab": {
          "base_uri": "https://localhost:8080/"
        },
        "id": "lZ8JZkYTiNGC",
        "outputId": "a29d59f7-4122-4adc-a052-40aebe41cf12"
      },
      "source": [
        "bin_colors=['Red','Green','Blue','Yellow']\n",
        "bin_colors[1:3]"
      ],
      "execution_count": 13,
      "outputs": [
        {
          "output_type": "execute_result",
          "data": {
            "text/plain": [
              "['Green', 'Blue']"
            ]
          },
          "metadata": {},
          "execution_count": 13
        }
      ]
    },
    {
      "cell_type": "code",
      "metadata": {
        "colab": {
          "base_uri": "https://localhost:8080/"
        },
        "id": "cJ2x1nbKkivo",
        "outputId": "5b2463a1-9fd5-4939-ddf1-43a16e8d7ae6"
      },
      "source": [
        "Mahasiswa=['Syawaludin Fazri','Rajwa','Dony','Aldo','Adi']\n",
        "for aMahasiswa in Mahasiswa:\n",
        "  print(\"universitas Pembangunan Jaya Adalah Kampus \" + aMahasiswa)  "
      ],
      "execution_count": 19,
      "outputs": [
        {
          "output_type": "stream",
          "name": "stdout",
          "text": [
            "universitas Pembangunan Jaya Adalah Kampus Syawaludin Fazri\n",
            "universitas Pembangunan Jaya Adalah Kampus Rajwa\n",
            "universitas Pembangunan Jaya Adalah Kampus Dony\n",
            "universitas Pembangunan Jaya Adalah Kampus Aldo\n",
            "universitas Pembangunan Jaya Adalah Kampus Adi\n"
          ]
        }
      ]
    },
    {
      "cell_type": "code",
      "metadata": {
        "colab": {
          "base_uri": "https://localhost:8080/"
        },
        "id": "30ZrtfiVmdqc",
        "outputId": "11c5a966-71ab-496a-8e77-1b124275dd62"
      },
      "source": [
        "bin_colors=['Red','Green','Blue','Yellow']\n",
        "bin_colors[1]\n",
        "bin_colors[2:]"
      ],
      "execution_count": 18,
      "outputs": [
        {
          "output_type": "execute_result",
          "data": {
            "text/plain": [
              "['Blue', 'Yellow']"
            ]
          },
          "metadata": {},
          "execution_count": 18
        }
      ]
    },
    {
      "cell_type": "code",
      "metadata": {
        "colab": {
          "base_uri": "https://localhost:8080/"
        },
        "id": "COBK_DjUoF_X",
        "outputId": "ccbe0701-6c64-49e4-a1bb-e86771e22919"
      },
      "source": [
        "UPJ=('Universitas','Pembangunan','Jaya')\n",
        "UPJ[2]\n",
        "UPJ[1:]"
      ],
      "execution_count": 24,
      "outputs": [
        {
          "output_type": "execute_result",
          "data": {
            "text/plain": [
              "('Pembangunan', 'Jaya')"
            ]
          },
          "metadata": {},
          "execution_count": 24
        }
      ]
    },
    {
      "cell_type": "code",
      "metadata": {
        "colab": {
          "base_uri": "https://localhost:8080/"
        },
        "id": "1i37o8j3p-SJ",
        "outputId": "dbea9f68-3f5c-479a-c81e-78a54b785d79"
      },
      "source": [
        "Nested_Tuple=(100,(200,400,600),300,(400,800))\n",
        "Nested_Tuple"
      ],
      "execution_count": 30,
      "outputs": [
        {
          "output_type": "execute_result",
          "data": {
            "text/plain": [
              "(100, (200, 400, 600), 300, (400, 800))"
            ]
          },
          "metadata": {},
          "execution_count": 30
        }
      ]
    },
    {
      "cell_type": "code",
      "metadata": {
        "colab": {
          "base_uri": "https://localhost:8080/"
        },
        "id": "5BCg6nIcr-zp",
        "outputId": "b87b0d2d-a7b1-4761-d188-1a2fbf6fc2df"
      },
      "source": [
        "Nested_Tuple=(100,(200,400,600),300,(400,800))\n",
        "Nested_Tuple [0]"
      ],
      "execution_count": 32,
      "outputs": [
        {
          "output_type": "execute_result",
          "data": {
            "text/plain": [
              "100"
            ]
          },
          "metadata": {},
          "execution_count": 32
        }
      ]
    },
    {
      "cell_type": "code",
      "metadata": {
        "colab": {
          "base_uri": "https://localhost:8080/"
        },
        "id": "EWe_ZQJJsLGt",
        "outputId": "eb588564-d0a1-410e-c5a0-54a3c91f4c3c"
      },
      "source": [
        "Nested_Tuple=(100,(200,400,600),300,(400,800))\n",
        "Nested_Tuple [1]"
      ],
      "execution_count": 33,
      "outputs": [
        {
          "output_type": "execute_result",
          "data": {
            "text/plain": [
              "(200, 400, 600)"
            ]
          },
          "metadata": {},
          "execution_count": 33
        }
      ]
    },
    {
      "cell_type": "code",
      "metadata": {
        "colab": {
          "base_uri": "https://localhost:8080/"
        },
        "id": "8yvz6-WZsORY",
        "outputId": "9f1e16d7-78b4-484f-aa29-6ed55c221222"
      },
      "source": [
        "bin_colors={\n",
        "    \"manual_color\":\"Yellow\",\n",
        "    \"approved_color\":\"Green\",\n",
        "    \"refused_color\":\"Red\"\n",
        "}\n",
        "\n",
        "print(bin_colors)\n",
        "{'manual_color':'Yellow','approved_color':'Green','refused_color':'Red'}"
      ],
      "execution_count": 34,
      "outputs": [
        {
          "output_type": "stream",
          "name": "stdout",
          "text": [
            "{'manual_color': 'Yellow', 'approved_color': 'Green', 'refused_color': 'Red'}\n"
          ]
        },
        {
          "output_type": "execute_result",
          "data": {
            "text/plain": [
              "{'approved_color': 'Green', 'manual_color': 'Yellow', 'refused_color': 'Red'}"
            ]
          },
          "metadata": {},
          "execution_count": 34
        }
      ]
    },
    {
      "cell_type": "code",
      "metadata": {
        "colab": {
          "base_uri": "https://localhost:8080/",
          "height": 35
        },
        "id": "QB6JgumUtcoz",
        "outputId": "c628419f-9047-46df-959a-4fd22fc2e13c"
      },
      "source": [
        "bin_colors.get('approved_color')"
      ],
      "execution_count": 35,
      "outputs": [
        {
          "output_type": "execute_result",
          "data": {
            "application/vnd.google.colaboratory.intrinsic+json": {
              "type": "string"
            },
            "text/plain": [
              "'Green'"
            ]
          },
          "metadata": {},
          "execution_count": 35
        }
      ]
    },
    {
      "cell_type": "code",
      "metadata": {
        "colab": {
          "base_uri": "https://localhost:8080/",
          "height": 35
        },
        "id": "kTCDOMC7t3pv",
        "outputId": "c5d2b748-eb5d-4d52-82bb-ba9154b42deb"
      },
      "source": [
        "bin_colors['approved_color']"
      ],
      "execution_count": 36,
      "outputs": [
        {
          "output_type": "execute_result",
          "data": {
            "application/vnd.google.colaboratory.intrinsic+json": {
              "type": "string"
            },
            "text/plain": [
              "'Green'"
            ]
          },
          "metadata": {},
          "execution_count": 36
        }
      ]
    },
    {
      "cell_type": "code",
      "metadata": {
        "colab": {
          "base_uri": "https://localhost:8080/"
        },
        "id": "BareCCoWvEQd",
        "outputId": "3b3a5fde-63be-405a-caf5-f82bb961f7bc"
      },
      "source": [
        "bin_colors['approved_color']=\"Purple\"\n",
        "print (bin_colors)"
      ],
      "execution_count": 38,
      "outputs": [
        {
          "output_type": "stream",
          "name": "stdout",
          "text": [
            "{'manual_color': 'Yellow', 'approved_color': 'Purple', 'refused_color': 'Red'}\n"
          ]
        }
      ]
    },
    {
      "cell_type": "code",
      "metadata": {
        "colab": {
          "base_uri": "https://localhost:8080/"
        },
        "id": "Y-z0Owt3xZXU",
        "outputId": "8ffbd3c5-75db-4443-e695-5725ccd4c26c"
      },
      "source": [
        "green = {'grass','leaves','leaves'}\n",
        "print(green)"
      ],
      "execution_count": 43,
      "outputs": [
        {
          "output_type": "stream",
          "name": "stdout",
          "text": [
            "{'leaves', 'grass'}\n"
          ]
        }
      ]
    },
    {
      "cell_type": "code",
      "metadata": {
        "id": "Zw2NM97o1t9y"
      },
      "source": [
        "import pandas as pd\n",
        "df=pd.DataFrame([\n",
        "['1','Fares',32,True],\n",
        "['2','Elena',23,False],\n",
        "['3','Steven',40,True]])"
      ],
      "execution_count": 49,
      "outputs": []
    },
    {
      "cell_type": "code",
      "metadata": {
        "id": "stif6Yhi359i"
      },
      "source": [
        "df.columns = ['id','name','age','decision']"
      ],
      "execution_count": 50,
      "outputs": []
    },
    {
      "cell_type": "code",
      "metadata": {
        "colab": {
          "base_uri": "https://localhost:8080/",
          "height": 142
        },
        "id": "aqppUUDP4Py8",
        "outputId": "3acb7148-f436-42f9-a60e-3ba47930d0c8"
      },
      "source": [
        "df"
      ],
      "execution_count": 51,
      "outputs": [
        {
          "output_type": "execute_result",
          "data": {
            "text/html": [
              "<div>\n",
              "<style scoped>\n",
              "    .dataframe tbody tr th:only-of-type {\n",
              "        vertical-align: middle;\n",
              "    }\n",
              "\n",
              "    .dataframe tbody tr th {\n",
              "        vertical-align: top;\n",
              "    }\n",
              "\n",
              "    .dataframe thead th {\n",
              "        text-align: right;\n",
              "    }\n",
              "</style>\n",
              "<table border=\"1\" class=\"dataframe\">\n",
              "  <thead>\n",
              "    <tr style=\"text-align: right;\">\n",
              "      <th></th>\n",
              "      <th>id</th>\n",
              "      <th>name</th>\n",
              "      <th>age</th>\n",
              "      <th>decision</th>\n",
              "    </tr>\n",
              "  </thead>\n",
              "  <tbody>\n",
              "    <tr>\n",
              "      <th>0</th>\n",
              "      <td>1</td>\n",
              "      <td>Fares</td>\n",
              "      <td>32</td>\n",
              "      <td>True</td>\n",
              "    </tr>\n",
              "    <tr>\n",
              "      <th>1</th>\n",
              "      <td>2</td>\n",
              "      <td>Elena</td>\n",
              "      <td>23</td>\n",
              "      <td>False</td>\n",
              "    </tr>\n",
              "    <tr>\n",
              "      <th>2</th>\n",
              "      <td>3</td>\n",
              "      <td>Steven</td>\n",
              "      <td>40</td>\n",
              "      <td>True</td>\n",
              "    </tr>\n",
              "  </tbody>\n",
              "</table>\n",
              "</div>"
            ],
            "text/plain": [
              "  id    name  age  decision\n",
              "0  1   Fares   32      True\n",
              "1  2   Elena   23     False\n",
              "2  3  Steven   40      True"
            ]
          },
          "metadata": {},
          "execution_count": 51
        }
      ]
    },
    {
      "cell_type": "code",
      "metadata": {
        "colab": {
          "base_uri": "https://localhost:8080/",
          "height": 142
        },
        "id": "i1qF3-Cg5LlR",
        "outputId": "2eb6a016-6ed0-4074-ea08-3d283c7e119c"
      },
      "source": [
        "df[['name','age']]"
      ],
      "execution_count": 52,
      "outputs": [
        {
          "output_type": "execute_result",
          "data": {
            "text/html": [
              "<div>\n",
              "<style scoped>\n",
              "    .dataframe tbody tr th:only-of-type {\n",
              "        vertical-align: middle;\n",
              "    }\n",
              "\n",
              "    .dataframe tbody tr th {\n",
              "        vertical-align: top;\n",
              "    }\n",
              "\n",
              "    .dataframe thead th {\n",
              "        text-align: right;\n",
              "    }\n",
              "</style>\n",
              "<table border=\"1\" class=\"dataframe\">\n",
              "  <thead>\n",
              "    <tr style=\"text-align: right;\">\n",
              "      <th></th>\n",
              "      <th>name</th>\n",
              "      <th>age</th>\n",
              "    </tr>\n",
              "  </thead>\n",
              "  <tbody>\n",
              "    <tr>\n",
              "      <th>0</th>\n",
              "      <td>Fares</td>\n",
              "      <td>32</td>\n",
              "    </tr>\n",
              "    <tr>\n",
              "      <th>1</th>\n",
              "      <td>Elena</td>\n",
              "      <td>23</td>\n",
              "    </tr>\n",
              "    <tr>\n",
              "      <th>2</th>\n",
              "      <td>Steven</td>\n",
              "      <td>40</td>\n",
              "    </tr>\n",
              "  </tbody>\n",
              "</table>\n",
              "</div>"
            ],
            "text/plain": [
              "     name  age\n",
              "0   Fares   32\n",
              "1   Elena   23\n",
              "2  Steven   40"
            ]
          },
          "metadata": {},
          "execution_count": 52
        }
      ]
    },
    {
      "cell_type": "code",
      "metadata": {
        "colab": {
          "base_uri": "https://localhost:8080/"
        },
        "id": "Tgb7RqW55UPs",
        "outputId": "538c5219-bf38-4a3d-ea9f-1261cca30e97"
      },
      "source": [
        "df.iloc[:,3]"
      ],
      "execution_count": 53,
      "outputs": [
        {
          "output_type": "execute_result",
          "data": {
            "text/plain": [
              "0     True\n",
              "1    False\n",
              "2     True\n",
              "Name: decision, dtype: bool"
            ]
          },
          "metadata": {},
          "execution_count": 53
        }
      ]
    },
    {
      "cell_type": "code",
      "metadata": {
        "id": "Whiki-Pc6Q6w"
      },
      "source": [
        "import pandas as pd\n",
        "df=pd.DataFrame([\n",
        "['1','Informatika',50,30,20],\n",
        "['2','Sistem Informasi',55,30,25],\n",
        "['3','Teknik Sipil',40,30,10]])"
      ],
      "execution_count": 54,
      "outputs": []
    },
    {
      "cell_type": "code",
      "metadata": {
        "id": "QXKtL3v47qAH"
      },
      "source": [
        ""
      ],
      "execution_count": null,
      "outputs": []
    },
    {
      "cell_type": "code",
      "metadata": {
        "id": "6iCoFIam7qgx"
      },
      "source": [
        "import numpy as np"
      ],
      "execution_count": 60,
      "outputs": []
    },
    {
      "cell_type": "code",
      "metadata": {
        "colab": {
          "base_uri": "https://localhost:8080/"
        },
        "id": "_SysoWME9RyN",
        "outputId": "cbc5f715-c281-43f5-db63-b2a6f17f61be"
      },
      "source": [
        "myMatrix = np.array([[11,12,12],[21,22,23],[31,32,33]])\n",
        "print(myMatrix)"
      ],
      "execution_count": 61,
      "outputs": [
        {
          "output_type": "stream",
          "name": "stdout",
          "text": [
            "[[11 12 12]\n",
            " [21 22 23]\n",
            " [31 32 33]]\n"
          ]
        }
      ]
    },
    {
      "cell_type": "code",
      "metadata": {
        "colab": {
          "base_uri": "https://localhost:8080/"
        },
        "id": "8Uw2DfGJ9W6Y",
        "outputId": "e2e06871-ac91-4380-ea02-93ac795d70c7"
      },
      "source": [
        "print(type(myMatrix))"
      ],
      "execution_count": 62,
      "outputs": [
        {
          "output_type": "stream",
          "name": "stdout",
          "text": [
            "<class 'numpy.ndarray'>\n"
          ]
        }
      ]
    },
    {
      "cell_type": "code",
      "metadata": {
        "colab": {
          "base_uri": "https://localhost:8080/"
        },
        "id": "S3ywOJ32-HXC",
        "outputId": "652e9d79-cff4-4465-b6ae-bfff4bd825ff"
      },
      "source": [
        "biodata ={\"Nama\":\"Syawaludin Fazri\",\"NIM\":2020071004,\"Prodi\":\"Informatika\",\"Universitas\":\"UPJ\"}\n",
        "print(biodata)"
      ],
      "execution_count": 63,
      "outputs": [
        {
          "output_type": "stream",
          "name": "stdout",
          "text": [
            "{'Nama': 'Syawaludin Fazri', 'NIM': 2020071004, 'Prodi': 'Informatika', 'Universitas': 'UPJ'}\n"
          ]
        }
      ]
    },
    {
      "cell_type": "code",
      "metadata": {
        "colab": {
          "base_uri": "https://localhost:8080/"
        },
        "id": "XAdwkRA9Gmqq",
        "outputId": "7ac48e8b-a36e-4e93-8504-e6b7409b75d2"
      },
      "source": [
        "class Stack:\n",
        "    def __init__(self):\n",
        "        self.items = []\n",
        "    def isEmpty(self):\n",
        "        return self.items == []\n",
        "    def push(self, item):\n",
        "        self.items.append(item)\n",
        "    def pop(self):\n",
        "        return self.items.pop()\n",
        "    def peek(self):\n",
        "        return self.items[len(self.items)-1]\n",
        "    def size(self):\n",
        "        return len(self.items)\n",
        "\n",
        "stack = Stack()\n",
        "stack.push('Red')\n",
        "stack.push('Green')\n",
        "stack.push('Blue')\n",
        "stack.push('Yellow')\n",
        "\n",
        "print(stack.pop())\n",
        "\n",
        "print(stack.isEmpty())"
      ],
      "execution_count": 80,
      "outputs": [
        {
          "output_type": "stream",
          "name": "stdout",
          "text": [
            "Yellow\n",
            "False\n"
          ]
        }
      ]
    },
    {
      "cell_type": "code",
      "metadata": {
        "colab": {
          "base_uri": "https://localhost:8080/"
        },
        "id": "ORICflt3HSDk",
        "outputId": "18a122ea-40d9-41dc-a05d-eb4ecf98f612"
      },
      "source": [
        "class Queue(object):\n",
        "    def __init__(self):\n",
        "        self.items = []\n",
        "    def isEmpty(self):\n",
        "        return self.items == []\n",
        "    def enqueue(self, item):\n",
        "        self.items.insert(0, item)\n",
        "    def dequeue(self):\n",
        "        return self.items.pop()\n",
        "    def size(self):\n",
        "        return len(self.items)\n",
        "\n",
        "queue = Queue()\n",
        "queue.enqueue('Red')\n",
        "queue.enqueue('Green')\n",
        "queue.enqueue('Blue')\n",
        "queue.enqueue('Yellow')\n",
        "\n",
        "print(queue.size())\n",
        "\n",
        "print(queue.dequeue())\n",
        "print(queue.dequeue())"
      ],
      "execution_count": 81,
      "outputs": [
        {
          "output_type": "stream",
          "name": "stdout",
          "text": [
            "4\n",
            "Red\n",
            "Green\n"
          ]
        }
      ]
    }
  ]
}